{
  "nbformat": 4,
  "nbformat_minor": 0,
  "metadata": {
    "colab": {
      "provenance": []
    },
    "kernelspec": {
      "name": "python3",
      "display_name": "Python 3"
    },
    "language_info": {
      "name": "python"
    }
  },
  "cells": [
    {
      "cell_type": "markdown",
      "source": [
        "# Neural Network from Scratch"
      ],
      "metadata": {
        "id": "qYoi9VaGWeD7"
      }
    },
    {
      "cell_type": "code",
      "execution_count": 51,
      "metadata": {
        "id": "Caa86Rn9Pgx_"
      },
      "outputs": [],
      "source": [
        "import numpy as np\n",
        "import matplotlib.pyplot as plt\n",
        "from tqdm import tqdm\n",
        "\n",
        "%matplotlib inline\n",
        "%config InlineBackend.figure_format = 'retina'"
      ]
    },
    {
      "cell_type": "markdown",
      "source": [
        "## Train and Test Network using MNIST 784 Dataset"
      ],
      "metadata": {
        "id": "cuasQZfAQWjN"
      }
    },
    {
      "cell_type": "code",
      "source": [
        "from sklearn.datasets import fetch_openml\n",
        "import pandas as pd\n",
        "\n",
        "mnist_train = pd.read_csv('/content/sample_data/mnist_train_small.csv')\n",
        "\n",
        "# Assuming '6' is the target column (label)\n",
        "labels_train = mnist_train['6']\n",
        "data_train = mnist_train.drop('6', axis=1)\n",
        "# Rename the labels column for clarity\n",
        "labels_train = labels_train.rename('label')\n",
        "\n",
        "mnist_test = pd.read_csv('/content/sample_data/mnist_test.csv')\n",
        "\n",
        "labels_test = mnist_test['7']\n",
        "data_test = mnist_test.drop('7', axis=1)\n",
        "labels_test = labels_test.rename('label')\n",
        "\n",
        "print(\"Training data shape:\", data_train.shape)\n",
        "print(\"Training labels shape:\", labels_train.shape)\n",
        "print(\"Test data shape:\", data_test.shape)\n",
        "print(\"Test labels shape:\", labels_test.shape)"
      ],
      "metadata": {
        "colab": {
          "base_uri": "https://localhost:8080/"
        },
        "id": "ydVqRkmdQeB2",
        "outputId": "88a225e1-90ca-438c-b64b-5ebff80d42b0"
      },
      "execution_count": 52,
      "outputs": [
        {
          "output_type": "stream",
          "name": "stdout",
          "text": [
            "Training data shape: (19999, 784)\n",
            "Training labels shape: (19999,)\n",
            "Test data shape: (9999, 784)\n",
            "Test labels shape: (9999,)\n"
          ]
        }
      ]
    },
    {
      "cell_type": "markdown",
      "source": [
        "## Exploring the dataset"
      ],
      "metadata": {
        "id": "Rjfxxj18RYvt"
      }
    },
    {
      "cell_type": "code",
      "source": [
        "n = np.random.choice(np.arange(data.shape[0]))\n",
        "print(n)\n",
        "\n",
        "test_img = data.iloc[n].values\n",
        "test_label = labels.iloc[n]\n",
        "\n",
        "print(test_img.shape)\n",
        "\n",
        "side_length = int(np.sqrt(test_img.shape))\n",
        "reshaped_test_img = test_img.reshape(side_length, side_length)\n",
        "\n",
        "print(\"Image Label: \" + str(test_label))\n",
        "\n",
        "plt.imshow(reshaped_test_img, cmap=\"Greys\")\n",
        "plt.axis(\"off\")\n",
        "plt.show()"
      ],
      "metadata": {
        "colab": {
          "base_uri": "https://localhost:8080/",
          "height": 515
        },
        "id": "ZomFeQODRikG",
        "outputId": "964e7df9-8e64-4197-bcb1-d68babbcd0a9"
      },
      "execution_count": 54,
      "outputs": [
        {
          "output_type": "stream",
          "name": "stdout",
          "text": [
            "8818\n",
            "(784,)\n",
            "Image Label: 6\n"
          ]
        },
        {
          "output_type": "stream",
          "name": "stderr",
          "text": [
            "/tmp/ipython-input-3551344330.py:9: DeprecationWarning: Conversion of an array with ndim > 0 to a scalar is deprecated, and will error in future. Ensure you extract a single element from your array before performing this operation. (Deprecated NumPy 1.25.)\n",
            "  side_length = int(np.sqrt(test_img.shape))\n"
          ]
        },
        {
          "output_type": "display_data",
          "data": {
            "text/plain": [
              "<Figure size 640x480 with 1 Axes>"
            ],
            "image/png": "[encoded data removed]"
          },
          "metadata": {
            "image/png": {
              "width": 389,
              "height": 389
            }
          }
        }
      ]
    },
    {
      "cell_type": "markdown",
      "source": [
        "## Single Deep Layer with 4 Neurons"
      ],
      "metadata": {
        "id": "VmUDLWITTcDq"
      }
    },
    {
      "cell_type": "code",
      "source": [
        "w1 = np.ones((784, 4)) * 0.01\n",
        "z1 = np.dot(data, w1)\n",
        "print(z1.shape)\n",
        "\n",
        "w2 = np.ones((4, 10))\n",
        "z2 = np.dot(z1, w2)\n",
        "print(z2.shape)"
      ],
      "metadata": {
        "colab": {
          "base_uri": "https://localhost:8080/"
        },
        "id": "1-sb7DLoTfsc",
        "outputId": "d25128cc-538a-4ffb-a270-caf906c75270"
      },
      "execution_count": 55,
      "outputs": [
        {
          "output_type": "stream",
          "name": "stdout",
          "text": [
            "(19999, 4)\n",
            "(19999, 10)\n"
          ]
        }
      ]
    },
    {
      "cell_type": "markdown",
      "source": [
        "## Activation Functions"
      ],
      "metadata": {
        "id": "padUJz3lUV0j"
      }
    },
    {
      "cell_type": "code",
      "source": [
        "def sigmoid(z: np.ndarray) -> np.ndarray:\n",
        "    return 1.0 / (1.0 + np.exp(-z))\n",
        "def relu(z: np.ndarray) -> np.ndarray:\n",
        "    return np.maximum(0, z)\n",
        "def tanh(z: np.ndarray) -> np.ndarray:\n",
        "    return np.tanh(z)\n",
        "def leaky_relu(z: np.ndarray) -> np.ndarray:\n",
        "    return np.where(z > 0, z, z * 0.01)"
      ],
      "metadata": {
        "id": "IPl5uAS6UZPz"
      },
      "execution_count": 56,
      "outputs": []
    },
    {
      "cell_type": "markdown",
      "source": [
        "## For the output layer, we are going to use Softmax"
      ],
      "metadata": {
        "id": "cKEGW5GSUlJl"
      }
    },
    {
      "cell_type": "code",
      "source": [
        "def softmax(z: np.ndarray) -> np.ndarray:\n",
        "  e = np.exp(z - np.max(z))\n",
        "  return e / np.sum(e, axis=0)"
      ],
      "metadata": {
        "id": "BG-4A3N3UrwM"
      },
      "execution_count": 57,
      "outputs": []
    },
    {
      "cell_type": "markdown",
      "source": [
        "## Preprocessing Functions <br>\n",
        "1. Normalize function to scale inputs to the range [0,1]\n",
        "2. One-Hot-Encode Function that will turn array of labels form an n-sized vector to an n x m array"
      ],
      "metadata": {
        "id": "5dnxKIb6VRJd"
      }
    },
    {
      "cell_type": "code",
      "source": [
        "def normalize(x: np.ndarray) -> np.ndarray:\n",
        "    return (x - np.min(x)) / (np.max(x) - np.min(x))"
      ],
      "metadata": {
        "id": "caEsG_wxVoXp"
      },
      "execution_count": 58,
      "outputs": []
    },
    {
      "cell_type": "markdown",
      "source": [
        "## Create an identity matrix to perform One-Hot-Encoding."
      ],
      "metadata": {
        "id": "-AvXcjBQWARp"
      }
    },
    {
      "cell_type": "code",
      "source": [
        "def one_hot_encode(x: np.ndarray, num_labels: int) -> np.ndarray:\n",
        "  return np.eye(num_labels)[x]"
      ],
      "metadata": {
        "id": "NkxxLuDqWKWJ"
      },
      "execution_count": 59,
      "outputs": []
    },
    {
      "cell_type": "markdown",
      "source": [
        "## Derivatives in performing Gradient Descent"
      ],
      "metadata": {
        "id": "8Nt01S_PWwGh"
      }
    },
    {
      "cell_type": "code",
      "source": [
        "def derivative(function_name: str, z: np.ndarray) -> np.ndarray:\n",
        "    if function_name == \"sigmoid\":\n",
        "        return sigmoid(z) * (1 - sigmoid(z))\n",
        "    if function_name == \"tanh\":\n",
        "        return 1 - np.square(tanh(z))\n",
        "    if function_name == \"relu\":\n",
        "        y = (z > 0) * 1\n",
        "        return y\n",
        "    if function_name == \"leaky_relu\":\n",
        "        return  np.where(z > 0, 1, 0.01)\n",
        "    return \"Not an activation\""
      ],
      "metadata": {
        "id": "y1eUXIErW03x"
      },
      "execution_count": 60,
      "outputs": []
    },
    {
      "cell_type": "markdown",
      "source": [
        "## The Neural Network"
      ],
      "metadata": {
        "id": "EvBIqqaVXQnF"
      }
    },
    {
      "cell_type": "code",
      "source": [
        "from typing import List\n",
        "\n",
        "def __init__(self, X: np.ndarray, y: np.ndarray, X_test: np.ndarray, y_test: np.ndarray, activation: str, num_labels: int, architecture: List[int]):\n",
        "        self.X = normalize(X) # normalize the training data in range 0,1\n",
        "        assert np.all((self.X >= 0) | (self.X <= 1)) # test that normalize succeded\n",
        "        self.X, self.X_test = X.copy(), X_test.copy()\n",
        "        self.y, self.y_test = y.copy(), y_test.copy()\n",
        "        self.layers = {} # define the dictionary to store results of the activation\n",
        "        self.architecture = architecture # Hidden layers size as an array\n",
        "        self.activation = activation # activation function\n",
        "        assert self.activation in [\"relu\", \"tanh\", \"sigmoid\", \"leaky_relu\"]\n",
        "        self.parameters = {}\n",
        "        self.num_labels = num_labels\n",
        "        self.m = X.shape[1]\n",
        "        self.architecture.append(self.num_labels)\n",
        "        self.num_input_features = X.shape[0]\n",
        "        self.architecture.insert(0, self.num_input_features)\n",
        "        self.L = len(architecture)\n",
        "        assert self.X.shape == (self.num_input_features, self.m)\n",
        "        assert self.y.shape == (self.num_labels, self.m)"
      ],
      "metadata": {
        "id": "GOJ68BuhXSjE"
      },
      "execution_count": 61,
      "outputs": []
    },
    {
      "cell_type": "markdown",
      "source": [
        "## Initializing Parameters"
      ],
      "metadata": {
        "id": "E0qK6_iRYHMX"
      }
    },
    {
      "cell_type": "code",
      "source": [
        "def initialize_parameters(self):\n",
        "        for i in range(1, self.L):\n",
        "            print(f\"Initializing parameters for layer: {i}.\")\n",
        "            self.parameters[\"w\"+str(i)] = np.random.randn(self.architecture[i], self.architecture[i-1]) * 0.01\n",
        "            self.parameters[\"b\"+str(i)] = np.zeros((self.architecture[i], 1))"
      ],
      "metadata": {
        "id": "dvXuKqmzYKlS"
      },
      "execution_count": 62,
      "outputs": []
    },
    {
      "cell_type": "markdown",
      "source": [
        "## Feedforward\n",
        "1. Iterate over the range\n",
        "2. For each iteration in the range, we calculate the product of the parameteras given; parameters[wi] and layers[a-i].\n",
        "3. Apply the activation fucntion of choice to layers[zi] to obtain the output, and then store the values of layers."
      ],
      "metadata": {
        "id": "c2BBR9ceYrYT"
      }
    },
    {
      "cell_type": "code",
      "source": [
        "def forward(self):\n",
        "        params=self.parameters\n",
        "        self.layers[\"a0\"] = self.X\n",
        "        for l in range(1, self.L-1):\n",
        "            self.layers[\"z\" + str(l)] = np.dot(params[\"w\" + str(l)],\n",
        "                                               self.layers[\"a\"+str(l-1)]) + params[\"b\"+str(l)]\n",
        "            self.layers[\"a\" + str(l)] = eval(self.activation)(self.layers[\"z\"+str(l)])\n",
        "            assert self.layers[\"a\"+str(l)].shape == (self.architecture[l], self.m)\n",
        "        self.layers[\"z\" + str(self.L-1)] = np.dot(params[\"w\" + str(self.L-1)],\n",
        "                                                  self.layers[\"a\"+str(self.L-2)]) + params[\"b\"+str(self.L-1)]\n",
        "        self.layers[\"a\"+str(self.L-1)] = softmax(self.layers[\"z\"+str(self.L-1)])\n",
        "        self.output = self.layers[\"a\"+str(self.L-1)]\n",
        "        assert self.output.shape == (self.num_labels, self.m)\n",
        "        assert all([s for s in np.sum(self.output, axis=1)])\n",
        "\n",
        "        cost = - np.sum(self.y * np.log(self.output + 0.000000001))\n",
        "\n",
        "        return cost, self.layers"
      ],
      "metadata": {
        "id": "s1fcVzaGYszI"
      },
      "execution_count": 63,
      "outputs": []
    },
    {
      "cell_type": "markdown",
      "source": [
        "## Backpropagation <br>\n",
        "1. Gradients for weights = dot product of dz and the transpose of the previous activation, averaged over examples.\n",
        "2. Gradients for biases = averaged dz (use keepdims=True to avoid shape issues).\n",
        "3. Store the gradient of the previous activation in dAPrev."
      ],
      "metadata": {
        "id": "NuBKYcQyZ23D"
      }
    },
    {
      "cell_type": "code",
      "source": [
        "def backpropagate(self):\n",
        "        derivatives = {}\n",
        "        dZ = self.output - self.y\n",
        "        assert dZ.shape == (self.num_labels, self.m)\n",
        "        dW = np.dot(dZ, self.layers[\"a\" + str(self.L-2)].T) / self.m\n",
        "        db = np.sum(dZ, axis=1, keepdims=True) / self.m\n",
        "        dAPrev = np.dot(self.parameters[\"w\" + str(self.L-1)].T, dZ)\n",
        "        derivatives[\"dW\" + str(self.L-1)] = dW\n",
        "        derivatives[\"db\" + str(self.L-1)] = db\n",
        "\n",
        "        for l in range(self.L-2, 0, -1):\n",
        "            dZ = dAPrev * derivative(self.activation, self.layers[\"z\" + str(l)])\n",
        "            dW = 1. / self.m * np.dot(dZ, self.layers[\"a\" + str(l-1)].T)\n",
        "            db = 1. / self.m * np.sum(dZ, axis=1, keepdims=True)\n",
        "            if l > 1:\n",
        "                dAPrev = np.dot(self.parameters[\"w\" + str(l)].T, (dZ))\n",
        "            derivatives[\"dW\" + str(l)] = dW\n",
        "            derivatives[\"db\" + str(l)] = db\n",
        "        self.derivatives = derivatives\n",
        "\n",
        "        return self.derivatives"
      ],
      "metadata": {
        "id": "cgN1_AROaJoU"
      },
      "execution_count": 64,
      "outputs": []
    },
    {
      "cell_type": "markdown",
      "source": [
        "## Training the model using fit()."
      ],
      "metadata": {
        "id": "oMiIZgQkaeSt"
      }
    },
    {
      "cell_type": "code",
      "source": [
        "def fit(self, lr=0.01, epochs=1000):\n",
        "        self.costs = []\n",
        "        self.initialize_parameters()\n",
        "        self.accuracies = {\"train\": [], \"test\": []}\n",
        "        for epoch in tqdm(range(epochs), colour=\"BLUE\"):\n",
        "            cost, cache = self.forward()\n",
        "            self.costs.append(cost)\n",
        "            derivatives = self.backpropagate()\n",
        "            for layer in range(1, self.L):\n",
        "                self.parameters[\"w\"+str(layer)] = self.parameters[\"w\"+str(layer)] - lr * derivatives[\"dW\" + str(layer)]\n",
        "                self.parameters[\"b\"+str(layer)] = self.parameters[\"b\"+str(layer)] - lr * derivatives[\"db\" + str(layer)]\n",
        "            train_accuracy = self.accuracy(self.X, self.y)\n",
        "            test_accuracy = self.accuracy(self.X_test, self.y_test)\n",
        "            if epoch % 10 == 0:\n",
        "                print(f\"Epoch: {epoch:3d} | Cost: {cost:.3f} | Accuracy: {train_accuracy:.3f}\")\n",
        "            self.accuracies[\"train\"].append(train_accuracy)\n",
        "            self.accuracies[\"test\"].append(test_accuracy)\n",
        "        print(\"Training terminated\")"
      ],
      "metadata": {
        "id": "ZfTydWDRah0P"
      },
      "execution_count": 65,
      "outputs": []
    },
    {
      "cell_type": "markdown",
      "source": [
        "## Accuracy & Predictions"
      ],
      "metadata": {
        "id": "q_hPwP4kalT-"
      }
    },
    {
      "cell_type": "code",
      "source": [
        "def predict(self, x):\n",
        "        params = self.parameters\n",
        "        n_layers = self.L - 1\n",
        "        values = [x]\n",
        "        for l in range(1, n_layers):\n",
        "            z = np.dot(params[\"w\" + str(l)], values[l-1]) + params[\"b\" + str(l)]\n",
        "            a = eval(self.activation)(z)\n",
        "            values.append(a)\n",
        "        z = np.dot(params[\"w\"+str(n_layers)], values[n_layers-1]) + params[\"b\"+str(n_layers)]\n",
        "        a = softmax(z)\n",
        "        if x.shape[1]>1:\n",
        "            ans = np.argmax(a, axis=0)\n",
        "        else:\n",
        "            ans = np.argmax(a)\n",
        "        return ans\n",
        "\n",
        "\n",
        "def accuracy(self, X, y):\n",
        "    P = self.predict(X)\n",
        "    return sum(np.equal(P, np.argmax(y, axis=0))) / y.shape[1]*100"
      ],
      "metadata": {
        "id": "0rm-DRcNaq6y"
      },
      "execution_count": 66,
      "outputs": []
    },
    {
      "cell_type": "markdown",
      "source": [
        "## Training the network and getting results"
      ],
      "metadata": {
        "id": "jKfnrtm6aycm"
      }
    },
    {
      "cell_type": "code",
      "source": [
        "X_train = data_train.values.T\n",
        "y_train = labels_train.values.astype(int)\n",
        "y_train = one_hot_encode(y_train, 10)\n",
        "X_test = data_test.values.T\n",
        "y_test = labels_test.values.astype(int)\n",
        "y_test = one_hot_encode(y_test, 10)\n",
        "print(X_train.shape, X_test.shape)\n",
        "print(y_train.shape, y_test.shape)"
      ],
      "metadata": {
        "colab": {
          "base_uri": "https://localhost:8080/"
        },
        "id": "s9jr7NDIa2jV",
        "outputId": "0770a576-940a-49c9-fc3e-423446ff299c"
      },
      "execution_count": 67,
      "outputs": [
        {
          "output_type": "stream",
          "name": "stdout",
          "text": [
            "(784, 19999) (784, 9999)\n",
            "(10, 19999) (10, 9999)\n"
          ]
        }
      ]
    },
    {
      "cell_type": "markdown",
      "source": [
        "## Instantiation"
      ],
      "metadata": {
        "id": "81ec-Y3DeQA4"
      }
    },
    {
      "cell_type": "code",
      "metadata": {
        "colab": {
          "base_uri": "https://localhost:8080/",
          "height": 917
        },
        "id": "4lCc6H1sbCWi",
        "outputId": "3ca0150d-5013-4826-b5af-e791f6911af5"
      },
      "source": [
        "# Instantiate a NN with a 2-layer architecture (128 and 32 neurons)\n",
        "PARAMS = [X_train, y_train, X_test, y_test, \"relu\", 10, [128, 32]]\n",
        "nn_relu = NN(*PARAMS)\n",
        "epochs_relu = 200\n",
        "lr_relu = 0.03\n",
        "nn_relu.fit(lr=lr_relu, epochs=epochs_relu)\n",
        "nn_relu.plot_cost(lr_relu)"
      ],
      "execution_count": 69,
      "outputs": [
        {
          "output_type": "stream",
          "name": "stdout",
          "text": [
            "Initializing parameters for layer: 1.\n",
            "Initializing parameters for layer: 2.\n",
            "Initializing parameters for layer: 3.\n"
          ]
        },
        {
          "output_type": "stream",
          "name": "stderr",
          "text": [
            "  0%|\u001b[34m          \u001b[0m| 1/200 [00:00<02:53,  1.15it/s]"
          ]
        },
        {
          "output_type": "stream",
          "name": "stdout",
          "text": [
            "Epoch:   0 | Cost: 46114.200 | Accuracy: 19.066\n"
          ]
        },
        {
          "output_type": "stream",
          "name": "stderr",
          "text": [
            "  6%|\u001b[34m▌         \u001b[0m| 11/200 [00:11<03:49,  1.21s/it]"
          ]
        },
        {
          "output_type": "stream",
          "name": "stdout",
          "text": [
            "Epoch:  10 | Cost: 44239.363 | Accuracy: 28.946\n"
          ]
        },
        {
          "output_type": "stream",
          "name": "stderr",
          "text": [
            " 10%|\u001b[34m█         \u001b[0m| 21/200 [00:19<02:33,  1.17it/s]"
          ]
        },
        {
          "output_type": "stream",
          "name": "stdout",
          "text": [
            "Epoch:  20 | Cost: 89692.441 | Accuracy: 18.806\n"
          ]
        },
        {
          "output_type": "stream",
          "name": "stderr",
          "text": [
            " 16%|\u001b[34m█▌        \u001b[0m| 31/200 [00:29<02:32,  1.11it/s]"
          ]
        },
        {
          "output_type": "stream",
          "name": "stdout",
          "text": [
            "Epoch:  30 | Cost: 40656.520 | Accuracy: 33.352\n"
          ]
        },
        {
          "output_type": "stream",
          "name": "stderr",
          "text": [
            " 20%|\u001b[34m██        \u001b[0m| 41/200 [00:39<02:48,  1.06s/it]"
          ]
        },
        {
          "output_type": "stream",
          "name": "stdout",
          "text": [
            "Epoch:  40 | Cost: 42797.351 | Accuracy: 20.821\n"
          ]
        },
        {
          "output_type": "stream",
          "name": "stderr",
          "text": [
            " 26%|\u001b[34m██▌       \u001b[0m| 51/200 [00:48<02:06,  1.18it/s]"
          ]
        },
        {
          "output_type": "stream",
          "name": "stdout",
          "text": [
            "Epoch:  50 | Cost: 46103.044 | Accuracy: 13.321\n"
          ]
        },
        {
          "output_type": "stream",
          "name": "stderr",
          "text": [
            " 30%|\u001b[34m███       \u001b[0m| 61/200 [00:58<02:00,  1.15it/s]"
          ]
        },
        {
          "output_type": "stream",
          "name": "stdout",
          "text": [
            "Epoch:  60 | Cost: 46031.864 | Accuracy: 10.116\n"
          ]
        },
        {
          "output_type": "stream",
          "name": "stderr",
          "text": [
            " 36%|\u001b[34m███▌      \u001b[0m| 71/200 [01:09<02:06,  1.02it/s]"
          ]
        },
        {
          "output_type": "stream",
          "name": "stdout",
          "text": [
            "Epoch:  70 | Cost: 46046.980 | Accuracy: 10.116\n"
          ]
        },
        {
          "output_type": "stream",
          "name": "stderr",
          "text": [
            " 40%|\u001b[34m████      \u001b[0m| 81/200 [01:19<02:27,  1.24s/it]"
          ]
        },
        {
          "output_type": "stream",
          "name": "stdout",
          "text": [
            "Epoch:  80 | Cost: 46044.909 | Accuracy: 10.631\n"
          ]
        },
        {
          "output_type": "stream",
          "name": "stderr",
          "text": [
            " 46%|\u001b[34m████▌     \u001b[0m| 91/200 [01:27<01:32,  1.18it/s]"
          ]
        },
        {
          "output_type": "stream",
          "name": "stdout",
          "text": [
            "Epoch:  90 | Cost: 46042.985 | Accuracy: 10.631\n"
          ]
        },
        {
          "output_type": "stream",
          "name": "stderr",
          "text": [
            " 50%|\u001b[34m█████     \u001b[0m| 101/200 [01:38<01:30,  1.09it/s]"
          ]
        },
        {
          "output_type": "stream",
          "name": "stdout",
          "text": [
            "Epoch: 100 | Cost: 46041.177 | Accuracy: 10.631\n"
          ]
        },
        {
          "output_type": "stream",
          "name": "stderr",
          "text": [
            " 56%|\u001b[34m█████▌    \u001b[0m| 111/200 [01:48<01:43,  1.16s/it]"
          ]
        },
        {
          "output_type": "stream",
          "name": "stdout",
          "text": [
            "Epoch: 110 | Cost: 46039.476 | Accuracy: 10.631\n"
          ]
        },
        {
          "output_type": "stream",
          "name": "stderr",
          "text": [
            " 60%|\u001b[34m██████    \u001b[0m| 121/200 [01:56<01:07,  1.18it/s]"
          ]
        },
        {
          "output_type": "stream",
          "name": "stdout",
          "text": [
            "Epoch: 120 | Cost: 46037.875 | Accuracy: 10.636\n"
          ]
        },
        {
          "output_type": "stream",
          "name": "stderr",
          "text": [
            " 66%|\u001b[34m██████▌   \u001b[0m| 131/200 [02:07<01:00,  1.13it/s]"
          ]
        },
        {
          "output_type": "stream",
          "name": "stdout",
          "text": [
            "Epoch: 130 | Cost: 46036.367 | Accuracy: 10.636\n"
          ]
        },
        {
          "output_type": "stream",
          "name": "stderr",
          "text": [
            " 70%|\u001b[34m███████   \u001b[0m| 141/200 [02:17<01:01,  1.04s/it]"
          ]
        },
        {
          "output_type": "stream",
          "name": "stdout",
          "text": [
            "Epoch: 140 | Cost: 46034.946 | Accuracy: 10.641\n"
          ]
        },
        {
          "output_type": "stream",
          "name": "stderr",
          "text": [
            " 76%|\u001b[34m███████▌  \u001b[0m| 151/200 [02:25<00:44,  1.09it/s]"
          ]
        },
        {
          "output_type": "stream",
          "name": "stdout",
          "text": [
            "Epoch: 150 | Cost: 46033.608 | Accuracy: 11.216\n"
          ]
        },
        {
          "output_type": "stream",
          "name": "stderr",
          "text": [
            " 80%|\u001b[34m████████  \u001b[0m| 161/200 [02:36<00:34,  1.14it/s]"
          ]
        },
        {
          "output_type": "stream",
          "name": "stdout",
          "text": [
            "Epoch: 160 | Cost: 46032.348 | Accuracy: 11.216\n"
          ]
        },
        {
          "output_type": "stream",
          "name": "stderr",
          "text": [
            " 86%|\u001b[34m████████▌ \u001b[0m| 171/200 [02:46<00:27,  1.04it/s]"
          ]
        },
        {
          "output_type": "stream",
          "name": "stdout",
          "text": [
            "Epoch: 170 | Cost: 46031.162 | Accuracy: 11.216\n"
          ]
        },
        {
          "output_type": "stream",
          "name": "stderr",
          "text": [
            " 90%|\u001b[34m█████████ \u001b[0m| 181/200 [02:56<00:24,  1.29s/it]"
          ]
        },
        {
          "output_type": "stream",
          "name": "stdout",
          "text": [
            "Epoch: 180 | Cost: 46030.045 | Accuracy: 11.216\n"
          ]
        },
        {
          "output_type": "stream",
          "name": "stderr",
          "text": [
            " 96%|\u001b[34m█████████▌\u001b[0m| 191/200 [03:05<00:07,  1.16it/s]"
          ]
        },
        {
          "output_type": "stream",
          "name": "stdout",
          "text": [
            "Epoch: 190 | Cost: 46028.992 | Accuracy: 11.216\n"
          ]
        },
        {
          "output_type": "stream",
          "name": "stderr",
          "text": [
            "100%|\u001b[34m██████████\u001b[0m| 200/200 [03:14<00:00,  1.03it/s]\n"
          ]
        },
        {
          "output_type": "stream",
          "name": "stdout",
          "text": [
            "Training terminated\n"
          ]
        },
        {
          "output_type": "display_data",
          "data": {
            "text/plain": [
              "<Figure size 640x480 with 1 Axes>"
            ],
            "image/png": "[encoded data removed]"
          },
          "metadata": {
            "image/png": {
              "width": 598,
              "height": 454
            }
          }
        }
      ]
    }
  ]
}